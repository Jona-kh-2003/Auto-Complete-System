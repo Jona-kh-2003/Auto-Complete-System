{
  "nbformat": 4,
  "nbformat_minor": 0,
  "metadata": {
    "colab": {
      "provenance": [],
      "authorship_tag": "ABX9TyMZIJKiFi1+9vA2lcv/YvE5",
      "include_colab_link": true
    },
    "kernelspec": {
      "name": "python3",
      "display_name": "Python 3"
    },
    "language_info": {
      "name": "python"
    }
  },
  "cells": [
    {
      "cell_type": "markdown",
      "metadata": {
        "id": "view-in-github",
        "colab_type": "text"
      },
      "source": [
        "<a href=\"https://colab.research.google.com/github/Jona-kh-2003/Auto-Complete-System/blob/main/word_prediction.ipynb\" target=\"_parent\"><img src=\"https://colab.research.google.com/assets/colab-badge.svg\" alt=\"Open In Colab\"/></a>"
      ]
    },
    {
      "cell_type": "markdown",
      "source": [
        "First, we import all the necessary libraries\n"
      ],
      "metadata": {
        "id": "cYhvJ7c0E-Sz"
      }
    },
    {
      "cell_type": "code",
      "source": [
        "import nltk\n",
        "nltk.download('punkt')\n",
        "from urllib import request\n",
        "from nltk.tokenize import word_tokenize,sent_tokenize\n",
        "from collections import Counter"
      ],
      "metadata": {
        "colab": {
          "base_uri": "https://localhost:8080/"
        },
        "id": "zNNsWTyBFCfR",
        "outputId": "72fb21d8-9f8b-4280-c8da-74e68dca52ce"
      },
      "execution_count": 1,
      "outputs": [
        {
          "output_type": "stream",
          "name": "stderr",
          "text": [
            "[nltk_data] Downloading package punkt to /root/nltk_data...\n",
            "[nltk_data]   Unzipping tokenizers/punkt.zip.\n"
          ]
        }
      ]
    },
    {
      "cell_type": "markdown",
      "source": [
        "The check function will check wether out input (ip) is is present in our corpus word. I minimized to check upto last three elements, if not present then i checked last two elements, and if not i finally checked the last element."
      ],
      "metadata": {
        "id": "DEIzKPXiniwI"
      }
    },
    {
      "cell_type": "code",
      "source": [
        "def check(ip,corpus):\n",
        "\n",
        "    three=[]\n",
        "    two=[]\n",
        "    one=[]\n",
        "\n",
        "    if len(ip)>=3:\n",
        "        for i in range(len(corpus)-3):\n",
        "            if corpus[i]==ip[len(ip)-3] and corpus[i+1]==ip[len(ip)-2] and corpus[i+2]==ip[len(ip)-1]:\n",
        "               three.append(i+3)\n",
        "        if len(three) !=0:\n",
        "            return three\n",
        "\n",
        "    if (len(three)==0 or len(ip)<3) and len(ip)>1:\n",
        "        for i in range(len(corpus)-2):\n",
        "            if corpus[i]==ip[len(ip)-2] and corpus[i+1]==ip[len(ip)-1]:\n",
        "                two.append(i+2)\n",
        "        if len(two) !=0:\n",
        "            return two\n",
        "\n",
        "    if len(three)==0 and len(two)==0:\n",
        "        for i in range(len(corpus)-1):\n",
        "            if corpus[i]==ip[len(ip)-1]:\n",
        "                one.append(i+1)\n",
        "        return one"
      ],
      "metadata": {
        "id": "ccvgjOjdFFRQ"
      },
      "execution_count": 4,
      "outputs": []
    },
    {
      "cell_type": "markdown",
      "source": [
        "The maxprob function returns the most probable next word and it's probability."
      ],
      "metadata": {
        "id": "vdzvCYyUpJC2"
      }
    },
    {
      "cell_type": "code",
      "source": [
        "def maxprob(ip,corpus):\n",
        "    arr_ = check(ip,corpus)\n",
        "    if len(arr_)==0:     #returns nothing if the word in ip is not present in the corpus (EX. Laptop)\n",
        "      return '','Undefined'\n",
        "    arr=[]\n",
        "    for x in arr_:\n",
        "        arr.append(corpus[x])\n",
        "    a = Counter(arr)\n",
        "    prob = round(a[max(a,key= lambda x:a[x])]/sum(a.values()),3)\n",
        "    X = arr.index(max(a,key= lambda x:a[x]))\n",
        "    ans = max(a,key= lambda x:a[x]) + \" \" + corpus[arr_[X]+1]\n",
        "    return ans,prob"
      ],
      "metadata": {
        "id": "y5FBdwh6FOGR"
      },
      "execution_count": 5,
      "outputs": []
    },
    {
      "cell_type": "markdown",
      "source": [
        "url contains hyperlink for our corpus."
      ],
      "metadata": {
        "id": "4gxlwb_KplWZ"
      }
    },
    {
      "cell_type": "code",
      "source": [
        "url = [\"http://www.gutenberg.org/files/2554/2554-0.txt\",\"https://www.gutenberg.org/files/2489/2489-0.txt\",\"https://www.gutenberg.org/files/48320/48320-0.txt\",\"https://www.gutenberg.org/files/120/120-0.txt\",\"https://www.gutenberg.org/files/76/76-0.txt\",\"https://www.gutenberg.org/files/345/345-0.txt\",\"https://www.gutenberg.org/files/98/98-0.txt\",\"https://www.gutenberg.org/files/514/514-0.txt\",\"https://www.gutenberg.org/files/1259/1259-0.txt\",\"https://www.gutenberg.org/files/2148/2148-0.txt\",\"https://www.gutenberg.org/files/16/16-0.txt\",\"https://www.gutenberg.org/files/730/730-0.txt\"]\n",
        "corpus=[]\n",
        "for i in range(len(url)):\n",
        "    response = request.urlopen(url[i])\n",
        "    raw = response.read().decode('utf-8-sig')\n",
        "    temp_words = word_tokenize(raw)\n",
        "    corpus.extend(temp_words)\n",
        "    temp_words = []"
      ],
      "metadata": {
        "id": "eZyEcRb_FQzK"
      },
      "execution_count": 6,
      "outputs": []
    },
    {
      "cell_type": "markdown",
      "source": [
        "The code below removes all special characters and make all the words lower case thus making the corpus more clean or convenient."
      ],
      "metadata": {
        "id": "19VhXlQyqPfk"
      }
    },
    {
      "cell_type": "code",
      "source": [
        "words = []\n",
        "\n",
        "for x in corpus:\n",
        "    if x[-1] == '.':\n",
        "      x = x.rstrip('.')\n",
        "    if x.isalpha():\n",
        "      words.append(x.lower())"
      ],
      "metadata": {
        "id": "u3hGaSOiFTZo"
      },
      "execution_count": 7,
      "outputs": []
    },
    {
      "cell_type": "markdown",
      "source": [
        "input handling:"
      ],
      "metadata": {
        "id": "5sb669vsqxA3"
      }
    },
    {
      "cell_type": "code",
      "source": [
        "\n",
        "text = []\n",
        "mytext = \"http://www.gutenberg.org/files/2554/2554-0.txt\"\n",
        "response = request.urlopen(mytext)\n",
        "raw = response.read().decode('utf-8-sig')\n",
        "\n",
        "# Split the decoded string into lines\n",
        "lines = raw.splitlines()\n",
        "\n",
        "# Append each line to the text list\n",
        "num_of_lines_to_include=30\n",
        "i=1;\n",
        "for line in lines:\n",
        "    text.append(line.rstrip())\n",
        "    i+=1;\n",
        "    if(i==num_of_lines_to_include):\n",
        "      break\n",
        "print(text)\n"
      ],
      "metadata": {
        "colab": {
          "base_uri": "https://localhost:8080/"
        },
        "id": "V0rcUrb6Fabl",
        "outputId": "3b8af70c-02dc-4218-8e25-fb0c3825edfb"
      },
      "execution_count": 28,
      "outputs": [
        {
          "output_type": "stream",
          "name": "stdout",
          "text": [
            "['The Project Gutenberg eBook of Crime and Punishment, by Fyodor Dostoevsky', '', 'This eBook is for the use of anyone anywhere in the United States and', 'most other parts of the world at no cost and with almost no restrictions', 'whatsoever. You may copy it, give it away or re-use it under the terms', 'of the Project Gutenberg License included with this eBook or online at', 'www.gutenberg.org. If you are not located in the United States, you', 'will have to check the laws of the country where you are located before', 'using this eBook.', '', 'Title: Crime and Punishment', '', 'Author: Fyodor Dostoevsky', '', 'Translator: Constance Garnett', '', 'Release Date: March, 2001 [eBook #2554]', '[Most recently updated: August 6, 2021]', '', 'Language: English', '', 'Character set encoding: UTF-8', '', 'Produced by: John Bickers, Dagny and David Widger', '', '*** START OF THE PROJECT GUTENBERG EBOOK CRIME AND PUNISHMENT ***', '', '', '']\n"
          ]
        }
      ]
    },
    {
      "cell_type": "markdown",
      "source": [],
      "metadata": {
        "id": "_pEE5WBFsisJ"
      }
    },
    {
      "cell_type": "code",
      "source": [
        "for i in range(len(text)):\n",
        "    ip = []\n",
        "    for x in text[i].split():\n",
        "        if x.isalpha():\n",
        "            ip.append(x.lower())\n",
        "\n",
        "    if len(ip) > 0:  # Add this check to ensure ip is not empty\n",
        "        suggestion, probability = maxprob(ip, words)\n",
        "        print(text[i] + \" \" + suggestion)\n",
        "        print(\"Suggestion has a probability:\", probability)"
      ],
      "metadata": {
        "colab": {
          "base_uri": "https://localhost:8080/"
        },
        "id": "FWD5kB11FnCf",
        "outputId": "bca74266-91d5-476d-e326-9880bf390ed9"
      },
      "execution_count": 29,
      "outputs": [
        {
          "output_type": "stream",
          "name": "stdout",
          "text": [
            "The Project Gutenberg eBook of Crime and Punishment, by Fyodor Dostoevsky this ebook\n",
            "Suggestion has a probability: 0.5\n",
            "This eBook is for the use of anyone anywhere in the United States and most other\n",
            "Suggestion has a probability: 0.647\n",
            "most other parts of the world at no cost and with almost no restrictions whatsoever you\n",
            "Suggestion has a probability: 1.0\n",
            "whatsoever. You may copy it, give it away or re-use it under the terms of the\n",
            "Suggestion has a probability: 1.0\n",
            "of the Project Gutenberg License included with this eBook or online at if you\n",
            "Suggestion has a probability: 0.639\n",
            "www.gutenberg.org. If you are not located in the United States, you are not\n",
            "Suggestion has a probability: 0.065\n",
            "will have to check the laws of the country where you are located before using this\n",
            "Suggestion has a probability: 1.0\n",
            "using this eBook. ebook title\n",
            "Suggestion has a probability: 0.957\n",
            "Title: Crime and Punishment by fyodor\n",
            "Suggestion has a probability: 0.429\n",
            "Author: Fyodor Dostoevsky this ebook\n",
            "Suggestion has a probability: 0.333\n",
            "Translator: Constance Garnett release date\n",
            "Suggestion has a probability: 0.5\n",
            "Release Date: March, 2001 [eBook #2554] date march\n",
            "Suggestion has a probability: 0.343\n",
            "[Most recently updated: August 6, 2021] of the\n",
            "Suggestion has a probability: 0.056\n",
            "Language: English and both\n",
            "Suggestion has a probability: 0.058\n",
            "Character set encoding: UTF-8 encoding produced\n",
            "Suggestion has a probability: 1.0\n",
            "Produced by: John Bickers, Dagny and David Widger start of\n",
            "Suggestion has a probability: 1.0\n",
            "*** START OF THE PROJECT GUTENBERG EBOOK CRIME AND PUNISHMENT *** by fyodor\n",
            "Suggestion has a probability: 0.429\n"
          ]
        }
      ]
    },
    {
      "cell_type": "code",
      "source": [],
      "metadata": {
        "id": "x696e6FwGjSk"
      },
      "execution_count": null,
      "outputs": []
    }
  ]
}